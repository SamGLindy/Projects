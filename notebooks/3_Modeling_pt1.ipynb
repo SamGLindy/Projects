{
 "cells": [
  {
   "cell_type": "markdown",
   "metadata": {},
   "source": [
    "# Modeling Part 1"
   ]
  },
  {
   "cell_type": "code",
   "execution_count": 49,
   "metadata": {
    "ExecuteTime": {
     "end_time": "2021-06-13T22:01:45.871029Z",
     "start_time": "2021-06-13T22:01:45.841330Z"
    }
   },
   "outputs": [],
   "source": [
    "import pandas as pd \n",
    "import numpy as np \n",
    "import matplotlib.pyplot as plt\n",
    "import seaborn as sns \n",
    "\n",
    "%matplotlib inline\n",
    "\n",
    "from sklearn.preprocessing import StandardScaler\n",
    "from sklearn.linear_model import LogisticRegression\n",
    "from sklearn.ensemble import RandomForestClassifier\n",
    "\n",
    "from sklearn.model_selection import train_test_split, GridSearchCV, cross_val_score, KFold\n",
    "from sklearn.pipeline import Pipeline\n",
    "from sklearn import svm\n",
    "from sklearn.svm import SVC\n",
    "from sklearn.metrics import accuracy_score, mean_squared_error\n",
    "from xgboost import XGBClassifier\n",
    "\n",
    "pd.options.display.max_columns = 60"
   ]
  },
  {
   "cell_type": "code",
   "execution_count": 39,
   "metadata": {
    "ExecuteTime": {
     "end_time": "2021-06-13T21:49:24.791021Z",
     "start_time": "2021-06-13T21:49:24.511400Z"
    }
   },
   "outputs": [],
   "source": [
    "df = pd.read_csv('../data/model_df.csv')"
   ]
  },
  {
   "cell_type": "code",
   "execution_count": 40,
   "metadata": {
    "ExecuteTime": {
     "end_time": "2021-06-13T21:49:32.468224Z",
     "start_time": "2021-06-13T21:49:32.449538Z"
    }
   },
   "outputs": [],
   "source": [
    "df.drop(columns=['artistName', 'trackName'], axis=1, inplace=True)"
   ]
  },
  {
   "cell_type": "code",
   "execution_count": 41,
   "metadata": {
    "ExecuteTime": {
     "end_time": "2021-06-13T21:49:56.509939Z",
     "start_time": "2021-06-13T21:49:56.477137Z"
    }
   },
   "outputs": [],
   "source": [
    "df.dropna(inplace=True)"
   ]
  },
  {
   "cell_type": "markdown",
   "metadata": {},
   "source": [
    "## Logistic Regression"
   ]
  },
  {
   "cell_type": "markdown",
   "metadata": {},
   "source": [
    "My goal with running Logistic Regression is to see the coeffiecient importance as well as see which songs are getting categorized incorrectly. I will be examining both the audio and genre features in this analysis."
   ]
  },
  {
   "cell_type": "code",
   "execution_count": 29,
   "metadata": {
    "ExecuteTime": {
     "end_time": "2021-06-13T21:41:24.808233Z",
     "start_time": "2021-06-13T21:41:24.777429Z"
    }
   },
   "outputs": [],
   "source": [
    "X = df.drop(columns=['target'])\n",
    "y = df['target']"
   ]
  },
  {
   "cell_type": "code",
   "execution_count": 30,
   "metadata": {
    "ExecuteTime": {
     "end_time": "2021-06-13T21:41:25.625164Z",
     "start_time": "2021-06-13T21:41:25.594163Z"
    }
   },
   "outputs": [],
   "source": [
    "X_train, X_test, y_train, y_test = train_test_split(X, y, random_state = 42)"
   ]
  },
  {
   "cell_type": "code",
   "execution_count": 6,
   "metadata": {
    "ExecuteTime": {
     "end_time": "2021-06-13T21:39:45.195207Z",
     "start_time": "2021-06-13T21:39:45.114411Z"
    }
   },
   "outputs": [],
   "source": [
    "ss = StandardScaler()\n",
    "\n",
    "X_train_sc = ss.fit_transform(X_train)\n",
    "X_test_sc = ss.transform(X_test)"
   ]
  },
  {
   "cell_type": "code",
   "execution_count": 7,
   "metadata": {
    "ExecuteTime": {
     "end_time": "2021-06-13T21:39:45.831034Z",
     "start_time": "2021-06-13T21:39:45.799376Z"
    }
   },
   "outputs": [
    {
     "data": {
      "text/plain": [
       "2     0.245666\n",
       "5     0.161411\n",
       "1     0.123850\n",
       "10    0.122994\n",
       "0     0.093565\n",
       "6     0.070272\n",
       "9     0.054042\n",
       "7     0.047050\n",
       "4     0.030713\n",
       "8     0.028858\n",
       "3     0.021581\n",
       "Name: target, dtype: float64"
      ]
     },
     "execution_count": 7,
     "metadata": {},
     "output_type": "execute_result"
    }
   ],
   "source": [
    "y.value_counts(normalize=True)"
   ]
  },
  {
   "cell_type": "markdown",
   "metadata": {},
   "source": [
    "Baseline score is about 25% (Will's dataset was the largest and thus has the highest chance of being picked by the model)."
   ]
  },
  {
   "cell_type": "code",
   "execution_count": 8,
   "metadata": {
    "ExecuteTime": {
     "end_time": "2021-06-13T21:39:47.282022Z",
     "start_time": "2021-06-13T21:39:47.278625Z"
    }
   },
   "outputs": [],
   "source": [
    "lr = LogisticRegression(multi_class='multinomial')"
   ]
  },
  {
   "cell_type": "markdown",
   "metadata": {},
   "source": [
    "The data will be scaled because the features are on different scales. However, because I want the coeffiecients to be interpretable, I will not be adding a penalty to normalize it. I'll use other models for better performance."
   ]
  },
  {
   "cell_type": "code",
   "execution_count": 9,
   "metadata": {
    "ExecuteTime": {
     "end_time": "2021-06-13T21:39:50.655116Z",
     "start_time": "2021-06-13T21:39:48.533484Z"
    }
   },
   "outputs": [
    {
     "name": "stdout",
     "output_type": "stream",
     "text": [
      "Logistic Regression Intercept: [ 1.21166362  1.25573046  2.27973426 -1.76164061 -3.02481136  1.58054158\n",
      "  0.31706266 -0.5480936  -1.35476989 -1.48371557  1.52829845]\n",
      "Logistic Regression Coefficient: [[ 2.23948041e-01  1.58120804e-01 -1.53942032e-02 -1.37581872e-01\n",
      "  -5.20397046e-02 -5.61023985e-02  8.50947951e-03  3.36145069e-01\n",
      "  -5.33632492e-02  3.76045720e-03  3.52435983e-02  1.28273490e-01\n",
      "  -4.52040407e-02  1.10078099e-01 -7.30294598e-02  1.35769967e-01\n",
      "   1.74200552e-01  2.30770551e-01  1.18542011e-01  9.06727567e-02\n",
      "   4.55986028e-02  1.32249272e-01  8.38712960e-02  1.25491877e-01\n",
      "   1.36401514e-01  1.05553871e-01 -3.39720738e-02  1.85860865e-01\n",
      "   5.45871789e-02 -2.71147193e-02  2.56861394e-01  1.31648650e-01\n",
      "   1.92653193e-01  4.36742548e-01 -1.57548602e-03  2.50000049e-01\n",
      "  -1.52783006e-01  4.25757840e-02 -1.31559743e-01 -1.41401439e-02\n",
      "  -1.53174562e-01 -2.18086833e-01  1.58088875e-01 -4.25332944e-02\n",
      "   2.14597347e-01 -2.16139873e-01]\n",
      " [ 1.36486148e-01  4.95023453e-01  2.45969755e-02 -8.49533124e-02\n",
      "  -5.54971957e-02  1.18996441e-01 -3.31952157e-01  3.81520890e-01\n",
      "  -4.42381279e-02 -6.39960642e-02  6.46737968e-02  5.60026213e-02\n",
      "   1.13293329e-02 -1.18282621e-01  3.62154588e-02  5.30832000e-02\n",
      "   1.65925928e-01  2.16663820e-01  2.02860027e-01  1.05232394e-01\n",
      "  -4.03743193e-03 -5.59852710e-02  5.28054171e-02  1.29179726e-01\n",
      "   3.16303631e-02  2.10032479e-01  3.39144961e-01  7.67080096e-02\n",
      "  -2.96224642e-02  1.62839251e-01 -6.71748745e-02  5.95068457e-02\n",
      "   1.70881941e-01  2.25243451e-01  1.31143168e-02 -3.85306300e-02\n",
      "   1.06087297e-02  1.07530715e-01  9.74560947e-02 -1.71626635e-03\n",
      "  -1.36598084e-01  1.13493662e-03  2.06862460e-01 -1.09184638e-01\n",
      "   8.86080770e-02 -7.53321896e-01]\n",
      " [ 5.52348431e-02  5.79008818e-02 -1.76497146e-02 -5.23642091e-01\n",
      "  -5.86641936e-02 -3.34773022e-02  1.46002697e-02  2.76965248e-01\n",
      "   2.14521356e-02  1.76744959e-01 -8.47691661e-02  1.51104475e-01\n",
      "  -3.24395209e-02 -2.75762746e-01 -5.36466473e-02  1.24140657e-01\n",
      "   2.51490481e-01 -2.53501200e-02  1.49857446e-01  3.46047346e-02\n",
      "   3.30657107e-01  2.22002388e-02  1.32970213e-01  1.61302891e-01\n",
      "  -2.62112861e-02  2.24080240e-01  2.58676022e-01  1.63055801e-01\n",
      "   2.71509839e-01  1.76145420e-01  2.02789436e-01 -2.39130919e-02\n",
      "   2.06350561e-01  3.20124622e-01  1.15987245e-01  2.13619819e-02\n",
      "   3.58731783e-02  1.93869824e-01 -3.61893629e-02  1.25970792e-01\n",
      "  -6.06372411e-02 -6.02176424e-02  4.05975352e-02 -3.68743319e-02\n",
      "   3.07071800e-01 -3.42538684e-01]\n",
      " [-2.21192124e-01 -2.19737830e-01 -2.08018015e-02 -1.01186175e-01\n",
      "   4.30319480e-02  2.71475171e-01  1.31232857e-01 -1.14973470e-01\n",
      "   9.56454938e-02  3.05934160e-01 -1.03335946e-01  2.18249554e-01\n",
      "  -6.39033625e-02 -2.24517815e-01  4.18156506e-01 -1.35593414e-01\n",
      "  -5.99325239e-01  1.58451492e-01 -2.14006924e-01 -4.57021106e-01\n",
      "   4.19120838e-01  2.30124132e-01 -1.76735360e-02 -5.82612553e-01\n",
      "  -7.11428334e-01 -4.19197173e-01  2.77099104e-01 -3.02307386e-01\n",
      "   3.06811406e-01 -3.62525863e-02  3.09974872e-01 -2.33918756e-01\n",
      "   3.19399028e-01 -5.38021694e-01 -4.87412365e-01 -1.56847146e-02\n",
      "   5.42330608e-02  1.12285921e-01  9.66279229e-02 -1.45045905e-01\n",
      "   1.96970736e-01 -1.78766627e-01  1.28374046e-01  3.53287191e-02\n",
      "   1.82343129e-01 -8.79250687e-01]\n",
      " [-1.72164998e-02 -9.24458598e-01 -6.93655155e-03  4.31038999e-01\n",
      "   1.04365277e-01 -1.55360876e-01  3.14360884e-01 -1.08458303e+00\n",
      "   4.78540946e-02 -1.84582602e-01  1.01960036e-02 -7.64801987e-02\n",
      "  -2.64287843e-02  1.88468598e+00  1.09068935e-01 -4.59898215e-01\n",
      "   1.30922565e-01 -1.66611711e-01 -2.10926166e-01  8.83972932e-02\n",
      "  -5.38304130e-01 -1.70227983e-02 -1.82356037e-01  2.35152826e-01\n",
      "   4.66601549e-02 -1.77025774e-01 -4.42210443e-01 -3.42815674e-01\n",
      "  -4.14857173e-01 -2.73940059e-01 -1.84554070e-01  1.58488513e-01\n",
      "  -1.19798547e+00 -1.19141039e-01  1.63739381e-01  2.72851343e-01\n",
      "  -6.08959586e-02 -2.48546887e-01 -8.87309733e-02  2.45880483e-01\n",
      "  -1.66117117e-01  2.32317270e-01 -3.06762627e-01  3.87507782e-01\n",
      "  -7.97095431e-02  2.90239631e-01]\n",
      " [-1.58616081e-01  2.57481882e-01 -3.37617632e-03 -5.13867072e-01\n",
      "   1.04896242e-02 -1.92497373e-02  7.83972174e-03  6.06276312e-01\n",
      "  -3.06903633e-02 -1.05708618e-01  1.30314824e-02  2.70659363e-02\n",
      "  -3.63041327e-02 -3.91161649e-01 -9.20414873e-02  4.75569136e-02\n",
      "   5.16616753e-02  3.12697899e-01  2.80456164e-01  1.96812432e-01\n",
      "   2.20383737e-01 -1.43926754e-01 -2.21008151e-01  1.04260009e-01\n",
      "   4.59707739e-02  3.43526529e-01  3.61530779e-01  2.52899373e-01\n",
      "   2.43025587e-01  2.87989799e-01  1.45859017e-01  8.27863513e-02\n",
      "   2.66035218e-01  1.74155399e-01  8.42761058e-02 -1.02635129e-01\n",
      "  -7.19342724e-02  1.62979352e-01  1.85116171e-01 -1.00227061e-01\n",
      "  -7.04785227e-02 -5.97415307e-02  1.61875901e-01 -7.90386476e-02\n",
      "   7.35505450e-02 -2.96093676e-02]\n",
      " [ 3.97693378e-01 -1.93303324e-02  3.49366586e-02  1.31272581e-02\n",
      "  -1.44893471e-01  1.75238095e-01 -2.03786975e-01 -1.12236379e-01\n",
      "  -7.57199787e-02 -1.02215595e-01  4.90215006e-03 -1.12954463e-02\n",
      "   7.13975051e-02 -6.96970718e-02 -3.31098381e-01 -4.60091569e-02\n",
      "   3.63238486e-01 -3.51620563e-01  7.74222629e-02  2.35110150e-02\n",
      "   3.75057831e-02  1.79424270e-01  5.71758642e-02  2.14753599e-02\n",
      "   1.32245296e-01  1.54219386e-01  3.40715784e-03 -1.57209081e-01\n",
      "   9.65663102e-02  1.66239388e-01 -3.81634467e-01 -1.80562381e-01\n",
      "   6.08570405e-02  2.43472992e-01  2.63825182e-02 -4.09155741e-02\n",
      "  -2.67172259e-01  1.62040253e-01  6.94515149e-02 -2.33877463e-01\n",
      "  -6.44424094e-02 -9.94404921e-02 -1.46733519e-01  2.78931948e-02\n",
      "  -3.07235857e-02  6.02594887e-01]\n",
      " [-1.42526729e-01  7.19574187e-02  6.49415344e-04 -1.04570180e-01\n",
      "   1.30786636e-01 -2.32780733e-01  3.47378468e-01 -5.46346319e-01\n",
      "   7.91361239e-02  2.65362783e-01 -5.10267513e-03  3.15715123e-02\n",
      "   7.52757903e-03 -5.69205733e-01  2.00201290e-01 -3.55456293e-03\n",
      "  -3.09217114e-01 -3.94913360e-02 -5.30759800e-02  8.73754538e-02\n",
      "   2.03473000e-01  3.80794870e-01 -1.55493676e-01 -2.82983056e-01\n",
      "  -2.29656550e-01  3.64603885e-02  1.16591785e-01 -7.17192770e-02\n",
      "   2.55617118e-01 -4.89144705e-02  2.46164800e-02 -4.90025922e-02\n",
      "   5.23362547e-02 -2.58304290e-01 -3.12181272e-02  1.92135295e-01\n",
      "   1.95724296e-02  2.65608357e-01  9.60988144e-04  5.01303119e-02\n",
      "   1.00450680e-01 -9.70105696e-02 -6.30675370e-02  1.71606235e-01\n",
      "   2.14813958e-01 -4.87351526e-01]\n",
      " [-5.77647313e-01  2.22771514e-01 -7.67115487e-02  1.10243947e-01\n",
      "  -5.91172617e-02 -1.28994287e-01 -1.12575947e-01  3.40794875e-01\n",
      "  -1.21961240e-01 -2.29328921e-01  5.30444644e-02 -2.27964411e-01\n",
      "  -5.15453404e-02  3.65744454e-02 -7.88767033e-02  2.12435699e-01\n",
      "  -5.65444994e-02 -3.79805777e-01 -1.81117264e-01 -1.47280420e-02\n",
      "  -3.03078091e-01 -6.12182235e-01 -8.68558571e-02  1.93802961e-01\n",
      "   6.33286095e-02 -5.18673444e-01 -2.67376982e-01 -9.12357665e-02\n",
      "  -4.45524593e-01 -1.43237664e-01  3.19718644e-02 -1.01918625e-01\n",
      "  -8.13205230e-02 -1.70727461e-01  2.52156751e-01 -8.30173343e-02\n",
      "   3.36706413e-01 -6.22688565e-01 -8.83015543e-03  1.55668990e-01\n",
      "   2.04598120e-01  4.39231338e-01 -4.62154572e-01  7.29503800e-02\n",
      "  -5.38635383e-01  5.61239322e-01]\n",
      " [-1.49819720e-02 -1.06101985e-01  7.94637386e-02  9.70915063e-01\n",
      "   1.35263571e-01  9.08750698e-02 -1.17150585e-01 -2.31723104e-01\n",
      "   5.94281253e-02 -7.17485033e-02  4.97327424e-02 -2.25411702e-01\n",
      "   1.11141904e-01 -2.19771683e-01 -1.97866510e-01 -9.43132091e-02\n",
      "  -3.23006221e-01  1.51951955e-01 -2.14076744e-01 -2.64872214e-01\n",
      "  -7.33922191e-01 -2.05126058e-01  2.19900803e-01 -8.48877230e-02\n",
      "   3.52956983e-01  1.29314549e-02 -8.08073132e-01  4.04045051e-01\n",
      "  -4.86313399e-01 -2.52749904e-01 -4.19174237e-01  8.40857981e-02\n",
      "   1.84371394e-03 -5.32796015e-01 -1.68334108e-01 -5.26239263e-01\n",
      "   1.91826095e-01 -3.45929872e-01 -1.22884642e-01  2.45025969e-02\n",
      "   1.70073776e-01  3.56831305e-01  3.13711585e-01 -4.68032393e-01\n",
      "  -5.89895418e-01  8.35679339e-01]\n",
      " [ 3.18818308e-01  6.37279193e-03  1.22320774e-03 -5.95245637e-02\n",
      "  -5.37252292e-02 -3.06194426e-02 -5.84560155e-02  1.48159909e-01\n",
      "   2.24569855e-02  5.77794383e-03 -3.76164503e-02 -7.11158309e-02\n",
      "   5.44288604e-02 -1.62939203e-01  6.29169978e-02  1.66382122e-01\n",
      "   1.50653387e-01 -1.07656208e-01  4.40651677e-02  1.10015282e-01\n",
      "   3.22602776e-01  8.94503327e-02  1.16663664e-01 -2.01823171e-02\n",
      "   1.58102476e-01  2.80920418e-02  1.95182822e-01 -1.17281916e-01\n",
      "   1.48200191e-01 -1.10044548e-02  8.04645858e-02  7.27992874e-02\n",
      "   8.94904589e-03  2.19251488e-01  3.28837683e-02  7.06739761e-02\n",
      "  -9.60344102e-02  1.70275116e-01 -6.14178150e-02 -1.07146335e-01\n",
      "  -2.06453759e-02 -3.16251154e-01 -3.07921472e-02  4.03769943e-02\n",
      "   1.57979075e-01  4.18458854e-01]]\n"
     ]
    },
    {
     "name": "stderr",
     "output_type": "stream",
     "text": [
      "/Users/samlindy/opt/anaconda3/lib/python3.8/site-packages/sklearn/linear_model/_logistic.py:763: ConvergenceWarning: lbfgs failed to converge (status=1):\n",
      "STOP: TOTAL NO. of ITERATIONS REACHED LIMIT.\n",
      "\n",
      "Increase the number of iterations (max_iter) or scale the data as shown in:\n",
      "    https://scikit-learn.org/stable/modules/preprocessing.html\n",
      "Please also refer to the documentation for alternative solver options:\n",
      "    https://scikit-learn.org/stable/modules/linear_model.html#logistic-regression\n",
      "  n_iter_i = _check_optimize_result(\n"
     ]
    }
   ],
   "source": [
    "lr.fit(X_train_sc, y_train)\n",
    "print(f'Logistic Regression Intercept: {lr.intercept_}')\n",
    "print(f'Logistic Regression Coefficient: {lr.coef_}')"
   ]
  },
  {
   "cell_type": "code",
   "execution_count": 10,
   "metadata": {
    "ExecuteTime": {
     "end_time": "2021-06-13T21:39:50.723278Z",
     "start_time": "2021-06-13T21:39:50.676581Z"
    }
   },
   "outputs": [],
   "source": [
    "mean_df = pd.DataFrame(lr.coef_).mean() "
   ]
  },
  {
   "cell_type": "code",
   "execution_count": 11,
   "metadata": {
    "ExecuteTime": {
     "end_time": "2021-06-13T21:39:52.302901Z",
     "start_time": "2021-06-13T21:39:51.717557Z"
    }
   },
   "outputs": [
    {
     "name": "stderr",
     "output_type": "stream",
     "text": [
      "<ipython-input-11-4c25a2d9a79b>:29: UserWarning: FixedFormatter should only be used together with FixedLocator\n",
      "  ax.set_xticklabels(x_labels, rotation=35)\n"
     ]
    },
    {
     "data": {
      "image/png": "[encoded data removed]",
      "text/plain": [
       "<Figure size 800x500 with 1 Axes>"
      ]
     },
     "metadata": {},
     "output_type": "display_data"
    }
   ],
   "source": [
    "plt.rcdefaults()\n",
    "plt.rcParams['figure.figsize'] = (8, 5)\n",
    "\n",
    "fig, ax = plt.subplots()\n",
    "\n",
    "plt.bar(range(len(mean_df)), mean_df)\n",
    "\n",
    "ax.spines['top'].set_visible(False)\n",
    "ax.spines['right'].set_visible(False)\n",
    "ax.spines['left'].set_visible(False)\n",
    "ax.spines['bottom'].set_color('#DDDDDD')\n",
    "\n",
    "ax.tick_params(bottom=False, left=False)\n",
    "\n",
    "ax.set_axisbelow(True)\n",
    "ax.yaxis.grid(True, color='#EEEEEE')\n",
    "ax.xaxis.grid(False)\n",
    "x_labels = ['danceability', 'energy', 'key', 'loudness', 'mode', 'speechiness',\n",
    "#        'acousticness', 'instrumentalness', 'liveness', 'valence', 'tempo',\n",
    "#        'duration_ms', 'time_signature', 'release_date', 'popularity',\n",
    "#        'alternative dance', 'alternative r&b', 'alternative rock', 'art pop',\n",
    "#        'chillwave', 'classic rock', 'dance pop', 'edm', 'electronica',\n",
    "#        'electropop', 'escape room', 'folk rock', 'freak folk', 'funk',\n",
    "#        'hip hop', 'indie folk', 'indie pop', 'indie rock', 'indie soul',\n",
    "#        'indietronica', 'mellow gold', 'modern rock', 'new rave',\n",
    "#        'permanent wave', 'pop', 'pop rock', 'post-teen pop', 'rock',\n",
    "#        'soft rock', 'soul', 'total_msPlayed'\n",
    "]\n",
    "ax.set_xticklabels(x_labels, rotation=35)\n",
    "ax.tick_params(axis='x')\n",
    "\n",
    "## for loop to set color for diff features\n",
    "\n",
    "ax.set_title('Coefficients by Importance', fontsize=16, pad=15, color='#333333', weight='bold')\n",
    "\n",
    "fig.tight_layout();"
   ]
  },
  {
   "cell_type": "markdown",
   "metadata": {},
   "source": [
    "The plot above only captures the coefficient importance of five of the features (wasn't able to get them all to display and I think it would've been too difficult to interpret anyway). Each of the eleven bar graphs in each of the features represents a user's data. From these five features alone, it becomes clear that some users stand out from the pack in certain features, some for high energy, some for mode, and others for speechiness."
   ]
  },
  {
   "cell_type": "code",
   "execution_count": 12,
   "metadata": {
    "ExecuteTime": {
     "end_time": "2021-06-13T21:39:54.239246Z",
     "start_time": "2021-06-13T21:39:54.219434Z"
    }
   },
   "outputs": [
    {
     "data": {
      "text/plain": [
       "0.37131985731272293"
      ]
     },
     "execution_count": 12,
     "metadata": {},
     "output_type": "execute_result"
    }
   ],
   "source": [
    "lr.score(X_train_sc, y_train)"
   ]
  },
  {
   "cell_type": "code",
   "execution_count": 13,
   "metadata": {
    "ExecuteTime": {
     "end_time": "2021-06-13T21:39:55.119392Z",
     "start_time": "2021-06-13T21:39:55.088787Z"
    }
   },
   "outputs": [
    {
     "data": {
      "text/plain": [
       "0.3683835069196747"
      ]
     },
     "execution_count": 13,
     "metadata": {},
     "output_type": "execute_result"
    }
   ],
   "source": [
    "lr.score(X_test_sc, y_test)"
   ]
  },
  {
   "cell_type": "markdown",
   "metadata": {},
   "source": [
    "The model is fit pretty well and beats the baseline with a score of 37%. "
   ]
  },
  {
   "cell_type": "code",
   "execution_count": 19,
   "metadata": {
    "ExecuteTime": {
     "end_time": "2021-06-13T21:40:24.438280Z",
     "start_time": "2021-06-13T21:40:24.417936Z"
    }
   },
   "outputs": [],
   "source": [
    "predictions = lr.predict(X_test_sc)"
   ]
  },
  {
   "cell_type": "code",
   "execution_count": 20,
   "metadata": {
    "ExecuteTime": {
     "end_time": "2021-06-13T21:40:25.666512Z",
     "start_time": "2021-06-13T21:40:25.656789Z"
    }
   },
   "outputs": [],
   "source": [
    "preds_df = pd.DataFrame(predictions, columns=(['predictions']))"
   ]
  },
  {
   "cell_type": "code",
   "execution_count": 31,
   "metadata": {
    "ExecuteTime": {
     "end_time": "2021-06-13T21:41:31.758930Z",
     "start_time": "2021-06-13T21:41:31.740248Z"
    }
   },
   "outputs": [],
   "source": [
    "new_df = pd.concat([X_test[[\"artistName\", \"trackName\"]].reset_index(drop=True), y_test.reset_index(drop=True), preds_df.reset_index(drop=True)], axis = 1)"
   ]
  },
  {
   "cell_type": "code",
   "execution_count": 34,
   "metadata": {
    "ExecuteTime": {
     "end_time": "2021-06-13T21:41:49.850500Z",
     "start_time": "2021-06-13T21:41:49.821020Z"
    }
   },
   "outputs": [
    {
     "data": {
      "text/html": [
       "<div>\n",
       "<style scoped>\n",
       "    .dataframe tbody tr th:only-of-type {\n",
       "        vertical-align: middle;\n",
       "    }\n",
       "\n",
       "    .dataframe tbody tr th {\n",
       "        vertical-align: top;\n",
       "    }\n",
       "\n",
       "    .dataframe thead th {\n",
       "        text-align: right;\n",
       "    }\n",
       "</style>\n",
       "<table border=\"1\" class=\"dataframe\">\n",
       "  <thead>\n",
       "    <tr style=\"text-align: right;\">\n",
       "      <th></th>\n",
       "      <th>artistName</th>\n",
       "      <th>trackName</th>\n",
       "      <th>target</th>\n",
       "      <th>predictions</th>\n",
       "    </tr>\n",
       "  </thead>\n",
       "  <tbody>\n",
       "    <tr>\n",
       "      <th>0</th>\n",
       "      <td>Monorie</td>\n",
       "      <td>Solitary minds</td>\n",
       "      <td>5</td>\n",
       "      <td>5</td>\n",
       "    </tr>\n",
       "    <tr>\n",
       "      <th>1</th>\n",
       "      <td>America</td>\n",
       "      <td>Ventura Highway</td>\n",
       "      <td>3</td>\n",
       "      <td>7</td>\n",
       "    </tr>\n",
       "    <tr>\n",
       "      <th>2</th>\n",
       "      <td>S. Fidelity</td>\n",
       "      <td>PPP</td>\n",
       "      <td>6</td>\n",
       "      <td>6</td>\n",
       "    </tr>\n",
       "    <tr>\n",
       "      <th>3</th>\n",
       "      <td>Hieroglyphics</td>\n",
       "      <td>Make Your Move</td>\n",
       "      <td>2</td>\n",
       "      <td>2</td>\n",
       "    </tr>\n",
       "    <tr>\n",
       "      <th>4</th>\n",
       "      <td>The Beatles</td>\n",
       "      <td>The Ballad Of John And Yoko - Remastered 2015</td>\n",
       "      <td>2</td>\n",
       "      <td>2</td>\n",
       "    </tr>\n",
       "    <tr>\n",
       "      <th>5</th>\n",
       "      <td>Elliott Smith</td>\n",
       "      <td>Clementine - 25th Anniversary Remaster</td>\n",
       "      <td>0</td>\n",
       "      <td>5</td>\n",
       "    </tr>\n",
       "    <tr>\n",
       "      <th>6</th>\n",
       "      <td>Klutch</td>\n",
       "      <td>I Want You</td>\n",
       "      <td>6</td>\n",
       "      <td>6</td>\n",
       "    </tr>\n",
       "    <tr>\n",
       "      <th>7</th>\n",
       "      <td>Flying Lotus</td>\n",
       "      <td>Arkestry</td>\n",
       "      <td>1</td>\n",
       "      <td>5</td>\n",
       "    </tr>\n",
       "    <tr>\n",
       "      <th>8</th>\n",
       "      <td>Linda McCartney</td>\n",
       "      <td>New Orleans</td>\n",
       "      <td>2</td>\n",
       "      <td>2</td>\n",
       "    </tr>\n",
       "    <tr>\n",
       "      <th>9</th>\n",
       "      <td>Parov Stelar</td>\n",
       "      <td>Silent Snow</td>\n",
       "      <td>9</td>\n",
       "      <td>2</td>\n",
       "    </tr>\n",
       "    <tr>\n",
       "      <th>10</th>\n",
       "      <td>Big Wild</td>\n",
       "      <td>Jubilee</td>\n",
       "      <td>10</td>\n",
       "      <td>1</td>\n",
       "    </tr>\n",
       "    <tr>\n",
       "      <th>11</th>\n",
       "      <td>Nina Simone</td>\n",
       "      <td>I Got It Bad (And That Ain't Good)</td>\n",
       "      <td>2</td>\n",
       "      <td>2</td>\n",
       "    </tr>\n",
       "    <tr>\n",
       "      <th>12</th>\n",
       "      <td>Claire Laffut</td>\n",
       "      <td>Mojo</td>\n",
       "      <td>10</td>\n",
       "      <td>2</td>\n",
       "    </tr>\n",
       "    <tr>\n",
       "      <th>13</th>\n",
       "      <td>박혜진 Park Hye Jin</td>\n",
       "      <td>ABC</td>\n",
       "      <td>10</td>\n",
       "      <td>1</td>\n",
       "    </tr>\n",
       "    <tr>\n",
       "      <th>14</th>\n",
       "      <td>Louis The Child</td>\n",
       "      <td>Breaking News (with RAYE)</td>\n",
       "      <td>6</td>\n",
       "      <td>9</td>\n",
       "    </tr>\n",
       "    <tr>\n",
       "      <th>15</th>\n",
       "      <td>Roy Ayers</td>\n",
       "      <td>Soulful and Unique</td>\n",
       "      <td>2</td>\n",
       "      <td>2</td>\n",
       "    </tr>\n",
       "    <tr>\n",
       "      <th>16</th>\n",
       "      <td>The J. Geils Band</td>\n",
       "      <td>Centerfold</td>\n",
       "      <td>7</td>\n",
       "      <td>7</td>\n",
       "    </tr>\n",
       "    <tr>\n",
       "      <th>17</th>\n",
       "      <td>Steely Dan</td>\n",
       "      <td>King Of The World</td>\n",
       "      <td>3</td>\n",
       "      <td>2</td>\n",
       "    </tr>\n",
       "    <tr>\n",
       "      <th>18</th>\n",
       "      <td>Tina Turner</td>\n",
       "      <td>The Best - Edit</td>\n",
       "      <td>3</td>\n",
       "      <td>7</td>\n",
       "    </tr>\n",
       "    <tr>\n",
       "      <th>19</th>\n",
       "      <td>Bonobo</td>\n",
       "      <td>Heartbreak</td>\n",
       "      <td>5</td>\n",
       "      <td>1</td>\n",
       "    </tr>\n",
       "    <tr>\n",
       "      <th>20</th>\n",
       "      <td>Wavelength</td>\n",
       "      <td>Starting To</td>\n",
       "      <td>4</td>\n",
       "      <td>10</td>\n",
       "    </tr>\n",
       "    <tr>\n",
       "      <th>21</th>\n",
       "      <td>The Cranberries</td>\n",
       "      <td>Ode To My Family</td>\n",
       "      <td>10</td>\n",
       "      <td>7</td>\n",
       "    </tr>\n",
       "    <tr>\n",
       "      <th>22</th>\n",
       "      <td>The Horrors</td>\n",
       "      <td>Lout</td>\n",
       "      <td>5</td>\n",
       "      <td>5</td>\n",
       "    </tr>\n",
       "    <tr>\n",
       "      <th>23</th>\n",
       "      <td>Giorgio Moroder</td>\n",
       "      <td>Lady, Lady - Remastered</td>\n",
       "      <td>2</td>\n",
       "      <td>2</td>\n",
       "    </tr>\n",
       "    <tr>\n",
       "      <th>24</th>\n",
       "      <td>Disclosure</td>\n",
       "      <td>Watch Your Step</td>\n",
       "      <td>10</td>\n",
       "      <td>1</td>\n",
       "    </tr>\n",
       "    <tr>\n",
       "      <th>25</th>\n",
       "      <td>Adhitia Sofyan</td>\n",
       "      <td>Somewhere in Windsor Gardens</td>\n",
       "      <td>4</td>\n",
       "      <td>2</td>\n",
       "    </tr>\n",
       "    <tr>\n",
       "      <th>26</th>\n",
       "      <td>Tourist</td>\n",
       "      <td>Elixir</td>\n",
       "      <td>10</td>\n",
       "      <td>5</td>\n",
       "    </tr>\n",
       "    <tr>\n",
       "      <th>27</th>\n",
       "      <td>Vulfpeck</td>\n",
       "      <td>Margery, My First Car</td>\n",
       "      <td>0</td>\n",
       "      <td>2</td>\n",
       "    </tr>\n",
       "    <tr>\n",
       "      <th>28</th>\n",
       "      <td>Modern Baseball</td>\n",
       "      <td>Mass Re-Done</td>\n",
       "      <td>9</td>\n",
       "      <td>10</td>\n",
       "    </tr>\n",
       "    <tr>\n",
       "      <th>29</th>\n",
       "      <td>5 Seconds of Summer</td>\n",
       "      <td>High</td>\n",
       "      <td>4</td>\n",
       "      <td>9</td>\n",
       "    </tr>\n",
       "  </tbody>\n",
       "</table>\n",
       "</div>"
      ],
      "text/plain": [
       "             artistName                                      trackName  \\\n",
       "0               Monorie                                 Solitary minds   \n",
       "1               America                                Ventura Highway   \n",
       "2           S. Fidelity                                            PPP   \n",
       "3         Hieroglyphics                                 Make Your Move   \n",
       "4           The Beatles  The Ballad Of John And Yoko - Remastered 2015   \n",
       "5         Elliott Smith         Clementine - 25th Anniversary Remaster   \n",
       "6                Klutch                                     I Want You   \n",
       "7          Flying Lotus                                       Arkestry   \n",
       "8       Linda McCartney                                    New Orleans   \n",
       "9          Parov Stelar                                    Silent Snow   \n",
       "10             Big Wild                                        Jubilee   \n",
       "11          Nina Simone             I Got It Bad (And That Ain't Good)   \n",
       "12        Claire Laffut                                           Mojo   \n",
       "13     박혜진 Park Hye Jin                                            ABC   \n",
       "14      Louis The Child                      Breaking News (with RAYE)   \n",
       "15            Roy Ayers                             Soulful and Unique   \n",
       "16    The J. Geils Band                                     Centerfold   \n",
       "17           Steely Dan                              King Of The World   \n",
       "18          Tina Turner                                The Best - Edit   \n",
       "19               Bonobo                                     Heartbreak   \n",
       "20           Wavelength                                    Starting To   \n",
       "21      The Cranberries                               Ode To My Family   \n",
       "22          The Horrors                                           Lout   \n",
       "23      Giorgio Moroder                        Lady, Lady - Remastered   \n",
       "24           Disclosure                                Watch Your Step   \n",
       "25       Adhitia Sofyan                   Somewhere in Windsor Gardens   \n",
       "26              Tourist                                         Elixir   \n",
       "27             Vulfpeck                          Margery, My First Car   \n",
       "28      Modern Baseball                                   Mass Re-Done   \n",
       "29  5 Seconds of Summer                                           High   \n",
       "\n",
       "    target  predictions  \n",
       "0        5            5  \n",
       "1        3            7  \n",
       "2        6            6  \n",
       "3        2            2  \n",
       "4        2            2  \n",
       "5        0            5  \n",
       "6        6            6  \n",
       "7        1            5  \n",
       "8        2            2  \n",
       "9        9            2  \n",
       "10      10            1  \n",
       "11       2            2  \n",
       "12      10            2  \n",
       "13      10            1  \n",
       "14       6            9  \n",
       "15       2            2  \n",
       "16       7            7  \n",
       "17       3            2  \n",
       "18       3            7  \n",
       "19       5            1  \n",
       "20       4           10  \n",
       "21      10            7  \n",
       "22       5            5  \n",
       "23       2            2  \n",
       "24      10            1  \n",
       "25       4            2  \n",
       "26      10            5  \n",
       "27       0            2  \n",
       "28       9           10  \n",
       "29       4            9  "
      ]
     },
     "execution_count": 34,
     "metadata": {},
     "output_type": "execute_result"
    }
   ],
   "source": [
    "new_df.head(30)"
   ]
  },
  {
   "cell_type": "markdown",
   "metadata": {},
   "source": [
    "The dataframe above will let us see which songs the model picked incorrectly."
   ]
  },
  {
   "cell_type": "markdown",
   "metadata": {},
   "source": [
    "## Random Forest Classifier "
   ]
  },
  {
   "cell_type": "markdown",
   "metadata": {},
   "source": [
    "My goal with RFC is to get an overall ranking of feature importance and see if we can improve Logistic Regression's score."
   ]
  },
  {
   "cell_type": "code",
   "execution_count": 75,
   "metadata": {
    "ExecuteTime": {
     "end_time": "2021-06-13T23:39:15.673670Z",
     "start_time": "2021-06-13T23:39:15.627523Z"
    }
   },
   "outputs": [],
   "source": [
    "X = df.drop(columns=['target'])\n",
    "y = df['target']"
   ]
  },
  {
   "cell_type": "code",
   "execution_count": 76,
   "metadata": {
    "ExecuteTime": {
     "end_time": "2021-06-13T23:39:16.729555Z",
     "start_time": "2021-06-13T23:39:16.675342Z"
    }
   },
   "outputs": [],
   "source": [
    "X_train, X_test, y_train, y_test = train_test_split(X, y, stratify=y, random_state=42)"
   ]
  },
  {
   "cell_type": "code",
   "execution_count": 77,
   "metadata": {
    "ExecuteTime": {
     "end_time": "2021-06-13T23:39:17.831521Z",
     "start_time": "2021-06-13T23:39:17.826495Z"
    }
   },
   "outputs": [],
   "source": [
    "rfc = RandomForestClassifier()"
   ]
  },
  {
   "cell_type": "code",
   "execution_count": 78,
   "metadata": {
    "ExecuteTime": {
     "end_time": "2021-06-13T23:39:27.423628Z",
     "start_time": "2021-06-13T23:39:18.771304Z"
    }
   },
   "outputs": [
    {
     "data": {
      "text/plain": [
       "RandomForestClassifier()"
      ]
     },
     "execution_count": 78,
     "metadata": {},
     "output_type": "execute_result"
    }
   ],
   "source": [
    "rfc.fit(X_train, y_train)"
   ]
  },
  {
   "cell_type": "code",
   "execution_count": 79,
   "metadata": {
    "ExecuteTime": {
     "end_time": "2021-06-13T23:39:37.815210Z",
     "start_time": "2021-06-13T23:39:36.413158Z"
    }
   },
   "outputs": [
    {
     "data": {
      "text/plain": [
       "(0.9892033293697978, 0.4351548009701812)"
      ]
     },
     "execution_count": 79,
     "metadata": {},
     "output_type": "execute_result"
    }
   ],
   "source": [
    "rfc.score(X_train, y_train), rfc.score(X_test, y_test)"
   ]
  },
  {
   "cell_type": "markdown",
   "metadata": {},
   "source": [
    "RFC's score is already better than LR but it is massively overfit. Let's run the model through a gridsearch to try to improve the bias/variance tradeoff."
   ]
  },
  {
   "cell_type": "code",
   "execution_count": 80,
   "metadata": {
    "ExecuteTime": {
     "end_time": "2021-06-13T23:39:42.345323Z",
     "start_time": "2021-06-13T23:39:42.338519Z"
    }
   },
   "outputs": [],
   "source": [
    "rfc = RandomForestClassifier()"
   ]
  },
  {
   "cell_type": "code",
   "execution_count": 81,
   "metadata": {
    "ExecuteTime": {
     "end_time": "2021-06-13T23:39:46.839286Z",
     "start_time": "2021-06-13T23:39:46.833474Z"
    }
   },
   "outputs": [],
   "source": [
    "params = {'n_estimators': [50, 100, 150],\n",
    "         'max_depth': [15, 17, 19],\n",
    "         'min_samples_split': [4, 5, 6],\n",
    "         'min_samples_leaf': [2, 3, 4],\n",
    "         'max_features': ['auto']}"
   ]
  },
  {
   "cell_type": "code",
   "execution_count": 82,
   "metadata": {
    "ExecuteTime": {
     "end_time": "2021-06-13T23:39:48.311821Z",
     "start_time": "2021-06-13T23:39:48.307000Z"
    }
   },
   "outputs": [],
   "source": [
    "gs = GridSearchCV(rfc, params, cv=3)"
   ]
  },
  {
   "cell_type": "code",
   "execution_count": 83,
   "metadata": {
    "ExecuteTime": {
     "end_time": "2021-06-13T23:54:05.622687Z",
     "start_time": "2021-06-13T23:39:54.341776Z"
    }
   },
   "outputs": [
    {
     "data": {
      "text/plain": [
       "GridSearchCV(cv=3, estimator=RandomForestClassifier(),\n",
       "             param_grid={'max_depth': [15, 17, 19], 'max_features': ['auto'],\n",
       "                         'min_samples_leaf': [2, 3, 4],\n",
       "                         'min_samples_split': [4, 5, 6],\n",
       "                         'n_estimators': [50, 100, 150]})"
      ]
     },
     "execution_count": 83,
     "metadata": {},
     "output_type": "execute_result"
    }
   ],
   "source": [
    "gs.fit(X_train, y_train)"
   ]
  },
  {
   "cell_type": "code",
   "execution_count": 84,
   "metadata": {
    "ExecuteTime": {
     "end_time": "2021-06-13T23:54:59.905905Z",
     "start_time": "2021-06-13T23:54:58.121931Z"
    }
   },
   "outputs": [
    {
     "data": {
      "text/plain": [
       "(0.8361474435196194, 0.45256099300898844)"
      ]
     },
     "execution_count": 84,
     "metadata": {},
     "output_type": "execute_result"
    }
   ],
   "source": [
    "gs.score(X_train, y_train), gs.score(X_test, y_test)"
   ]
  },
  {
   "cell_type": "markdown",
   "metadata": {},
   "source": [
    "The model is less overfit (84% from 99%) than it was before but this model will not generalize well to unseen data."
   ]
  },
  {
   "cell_type": "code",
   "execution_count": 56,
   "metadata": {
    "ExecuteTime": {
     "end_time": "2021-06-12T23:27:22.186248Z",
     "start_time": "2021-06-12T23:27:22.178930Z"
    }
   },
   "outputs": [
    {
     "data": {
      "text/plain": [
       "{'max_depth': 17,\n",
       " 'max_features': 'auto',\n",
       " 'min_samples_leaf': 4,\n",
       " 'min_samples_split': 4,\n",
       " 'n_estimators': 150}"
      ]
     },
     "execution_count": 56,
     "metadata": {},
     "output_type": "execute_result"
    }
   ],
   "source": [
    "gs.best_params_"
   ]
  },
  {
   "cell_type": "code",
   "execution_count": 71,
   "metadata": {
    "ExecuteTime": {
     "end_time": "2021-06-12T23:32:37.486271Z",
     "start_time": "2021-06-12T23:32:37.427543Z"
    }
   },
   "outputs": [
    {
     "data": {
      "text/plain": [
       "array([0.06048108, 0.06036348, 0.02512856, 0.06970894, 0.00866938,\n",
       "       0.0481203 , 0.06248331, 0.07521815, 0.03878362, 0.05000699,\n",
       "       0.04179772, 0.05200242, 0.00359722, 0.10273805, 0.01100322,\n",
       "       0.00213027, 0.00418565, 0.01286188, 0.00455166, 0.0028909 ,\n",
       "       0.00367152, 0.004131  , 0.0030676 , 0.00354412, 0.00460204,\n",
       "       0.00353026, 0.00236216, 0.01148938, 0.0057371 , 0.00362151,\n",
       "       0.00387003, 0.00370822, 0.0058435 , 0.00621784, 0.00221949,\n",
       "       0.00393739, 0.00568656, 0.00201132, 0.00578342, 0.00905463,\n",
       "       0.00652429, 0.0136423 , 0.00600894, 0.00533787, 0.00873114,\n",
       "       0.12894358])"
      ]
     },
     "execution_count": 71,
     "metadata": {},
     "output_type": "execute_result"
    }
   ],
   "source": [
    "gs.best_estimator_.feature_importances_"
   ]
  },
  {
   "cell_type": "code",
   "execution_count": 72,
   "metadata": {
    "ExecuteTime": {
     "end_time": "2021-06-12T23:32:38.910772Z",
     "start_time": "2021-06-12T23:32:38.854029Z"
    }
   },
   "outputs": [],
   "source": [
    "d = {'Column Name':df.columns,'Feature Importance':gs.best_estimator_.feature_importances_}\n",
    "fi = pd.DataFrame.from_dict(d, orient='index')"
   ]
  },
  {
   "cell_type": "code",
   "execution_count": 73,
   "metadata": {
    "ExecuteTime": {
     "end_time": "2021-06-12T23:32:41.107076Z",
     "start_time": "2021-06-12T23:32:41.102445Z"
    }
   },
   "outputs": [],
   "source": [
    "fi.drop(13, axis=1, inplace=True)"
   ]
  },
  {
   "cell_type": "code",
   "execution_count": 74,
   "metadata": {
    "ExecuteTime": {
     "end_time": "2021-06-12T23:32:43.278356Z",
     "start_time": "2021-06-12T23:32:43.262651Z"
    }
   },
   "outputs": [
    {
     "data": {
      "text/html": [
       "<div>\n",
       "<style scoped>\n",
       "    .dataframe tbody tr th:only-of-type {\n",
       "        vertical-align: middle;\n",
       "    }\n",
       "\n",
       "    .dataframe tbody tr th {\n",
       "        vertical-align: top;\n",
       "    }\n",
       "\n",
       "    .dataframe thead th {\n",
       "        text-align: right;\n",
       "    }\n",
       "</style>\n",
       "<table border=\"1\" class=\"dataframe\">\n",
       "  <thead>\n",
       "    <tr style=\"text-align: right;\">\n",
       "      <th></th>\n",
       "      <th>Column Name</th>\n",
       "      <th>Feature Importance</th>\n",
       "    </tr>\n",
       "  </thead>\n",
       "  <tbody>\n",
       "    <tr>\n",
       "      <th>45</th>\n",
       "      <td>soul</td>\n",
       "      <td>0.128944</td>\n",
       "    </tr>\n",
       "    <tr>\n",
       "      <th>7</th>\n",
       "      <td>instrumentalness</td>\n",
       "      <td>0.0752181</td>\n",
       "    </tr>\n",
       "    <tr>\n",
       "      <th>3</th>\n",
       "      <td>loudness</td>\n",
       "      <td>0.0697089</td>\n",
       "    </tr>\n",
       "    <tr>\n",
       "      <th>6</th>\n",
       "      <td>acousticness</td>\n",
       "      <td>0.0624833</td>\n",
       "    </tr>\n",
       "    <tr>\n",
       "      <th>0</th>\n",
       "      <td>danceability</td>\n",
       "      <td>0.0604811</td>\n",
       "    </tr>\n",
       "    <tr>\n",
       "      <th>1</th>\n",
       "      <td>energy</td>\n",
       "      <td>0.0603635</td>\n",
       "    </tr>\n",
       "    <tr>\n",
       "      <th>11</th>\n",
       "      <td>duration_ms</td>\n",
       "      <td>0.0520024</td>\n",
       "    </tr>\n",
       "    <tr>\n",
       "      <th>9</th>\n",
       "      <td>valence</td>\n",
       "      <td>0.050007</td>\n",
       "    </tr>\n",
       "    <tr>\n",
       "      <th>5</th>\n",
       "      <td>speechiness</td>\n",
       "      <td>0.0481203</td>\n",
       "    </tr>\n",
       "    <tr>\n",
       "      <th>10</th>\n",
       "      <td>tempo</td>\n",
       "      <td>0.0417977</td>\n",
       "    </tr>\n",
       "    <tr>\n",
       "      <th>8</th>\n",
       "      <td>liveness</td>\n",
       "      <td>0.0387836</td>\n",
       "    </tr>\n",
       "    <tr>\n",
       "      <th>2</th>\n",
       "      <td>key</td>\n",
       "      <td>0.0251286</td>\n",
       "    </tr>\n",
       "    <tr>\n",
       "      <th>41</th>\n",
       "      <td>pop rock</td>\n",
       "      <td>0.0136423</td>\n",
       "    </tr>\n",
       "    <tr>\n",
       "      <th>17</th>\n",
       "      <td>alternative r&amp;b</td>\n",
       "      <td>0.0128619</td>\n",
       "    </tr>\n",
       "    <tr>\n",
       "      <th>27</th>\n",
       "      <td>folk rock</td>\n",
       "      <td>0.0114894</td>\n",
       "    </tr>\n",
       "    <tr>\n",
       "      <th>14</th>\n",
       "      <td>release_date</td>\n",
       "      <td>0.0110032</td>\n",
       "    </tr>\n",
       "    <tr>\n",
       "      <th>39</th>\n",
       "      <td>permanent wave</td>\n",
       "      <td>0.00905463</td>\n",
       "    </tr>\n",
       "    <tr>\n",
       "      <th>44</th>\n",
       "      <td>soft rock</td>\n",
       "      <td>0.00873114</td>\n",
       "    </tr>\n",
       "    <tr>\n",
       "      <th>4</th>\n",
       "      <td>mode</td>\n",
       "      <td>0.00866938</td>\n",
       "    </tr>\n",
       "    <tr>\n",
       "      <th>40</th>\n",
       "      <td>pop</td>\n",
       "      <td>0.00652429</td>\n",
       "    </tr>\n",
       "  </tbody>\n",
       "</table>\n",
       "</div>"
      ],
      "text/plain": [
       "         Column Name Feature Importance\n",
       "45              soul           0.128944\n",
       "7   instrumentalness          0.0752181\n",
       "3           loudness          0.0697089\n",
       "6       acousticness          0.0624833\n",
       "0       danceability          0.0604811\n",
       "1             energy          0.0603635\n",
       "11       duration_ms          0.0520024\n",
       "9            valence           0.050007\n",
       "5        speechiness          0.0481203\n",
       "10             tempo          0.0417977\n",
       "8           liveness          0.0387836\n",
       "2                key          0.0251286\n",
       "41          pop rock          0.0136423\n",
       "17   alternative r&b          0.0128619\n",
       "27         folk rock          0.0114894\n",
       "14      release_date          0.0110032\n",
       "39    permanent wave         0.00905463\n",
       "44         soft rock         0.00873114\n",
       "4               mode         0.00866938\n",
       "40               pop         0.00652429"
      ]
     },
     "execution_count": 74,
     "metadata": {},
     "output_type": "execute_result"
    }
   ],
   "source": [
    "fi = fi.transpose()\n",
    "fi.sort_values(by='Feature Importance', ascending=False).head(20)"
   ]
  },
  {
   "cell_type": "markdown",
   "metadata": {},
   "source": [
    "The model identifies the Soul genre as the most important of all the features."
   ]
  },
  {
   "cell_type": "markdown",
   "metadata": {
    "ExecuteTime": {
     "end_time": "2021-06-07T03:10:46.004790Z",
     "start_time": "2021-06-07T03:03:48.205113Z"
    }
   },
   "source": [
    "## Support Vector Machine"
   ]
  },
  {
   "cell_type": "markdown",
   "metadata": {},
   "source": [
    "My goal with using SVM is to see if it can improve the accuracy scores of the previous models."
   ]
  },
  {
   "cell_type": "code",
   "execution_count": 50,
   "metadata": {
    "ExecuteTime": {
     "end_time": "2021-06-13T22:02:00.530847Z",
     "start_time": "2021-06-13T22:02:00.503942Z"
    }
   },
   "outputs": [],
   "source": [
    "X = df.drop(columns=['target'])\n",
    "y = df['target']"
   ]
  },
  {
   "cell_type": "code",
   "execution_count": 60,
   "metadata": {
    "ExecuteTime": {
     "end_time": "2021-06-13T23:08:01.710458Z",
     "start_time": "2021-06-13T23:08:01.677955Z"
    }
   },
   "outputs": [],
   "source": [
    "X_train, X_test, y_train, y_test = train_test_split(X, y, random_state=42)"
   ]
  },
  {
   "cell_type": "code",
   "execution_count": 68,
   "metadata": {
    "ExecuteTime": {
     "end_time": "2021-06-13T23:10:05.654482Z",
     "start_time": "2021-06-13T23:10:05.642089Z"
    }
   },
   "outputs": [],
   "source": [
    "svm = SVC(decision_function_shape='ovo')"
   ]
  },
  {
   "cell_type": "markdown",
   "metadata": {},
   "source": [
    "Because this is a multiclass classification model, the decision function shape has to be set to one vs one instead of one vs the rest. "
   ]
  },
  {
   "cell_type": "code",
   "execution_count": 69,
   "metadata": {
    "ExecuteTime": {
     "end_time": "2021-06-13T23:14:21.446735Z",
     "start_time": "2021-06-13T23:10:08.488893Z"
    }
   },
   "outputs": [
    {
     "data": {
      "text/plain": [
       "0.2855173580369488"
      ]
     },
     "execution_count": 69,
     "metadata": {},
     "output_type": "execute_result"
    }
   ],
   "source": [
    "cross_val_score(svm, X_train ,y_train, cv=3, scoring='accuracy', ).mean()"
   ]
  },
  {
   "cell_type": "markdown",
   "metadata": {},
   "source": [
    "The SVM model is 28% accurate."
   ]
  },
  {
   "cell_type": "code",
   "execution_count": 70,
   "metadata": {
    "ExecuteTime": {
     "end_time": "2021-06-13T23:17:56.921353Z",
     "start_time": "2021-06-13T23:16:12.127929Z"
    }
   },
   "outputs": [
    {
     "data": {
      "text/plain": [
       "SVC(decision_function_shape='ovo')"
      ]
     },
     "execution_count": 70,
     "metadata": {},
     "output_type": "execute_result"
    }
   ],
   "source": [
    "svm.fit(X_train, y_train)"
   ]
  },
  {
   "cell_type": "code",
   "execution_count": 71,
   "metadata": {
    "ExecuteTime": {
     "end_time": "2021-06-13T23:31:55.483824Z",
     "start_time": "2021-06-13T23:31:21.592544Z"
    }
   },
   "outputs": [],
   "source": [
    "y_pred = svm.predict(X_test)"
   ]
  },
  {
   "cell_type": "code",
   "execution_count": 72,
   "metadata": {
    "ExecuteTime": {
     "end_time": "2021-06-13T23:31:59.163764Z",
     "start_time": "2021-06-13T23:31:59.154991Z"
    }
   },
   "outputs": [
    {
     "data": {
      "text/plain": [
       "0.2914823797974033"
      ]
     },
     "execution_count": 72,
     "metadata": {},
     "output_type": "execute_result"
    }
   ],
   "source": [
    "accuracy_score(y_test, y_pred)"
   ]
  },
  {
   "cell_type": "markdown",
   "metadata": {},
   "source": [
    "The model's accuracy is 29%, slightly better than baseline but the worst performing model so far.  This model didn't use a pipeline or gridsearch so it's not a completely far comparison though."
   ]
  },
  {
   "cell_type": "markdown",
   "metadata": {},
   "source": [
    "##  XGBoost Classifier"
   ]
  },
  {
   "cell_type": "markdown",
   "metadata": {},
   "source": [
    "My goal with XGBoost is to see if it can outperform RFC and it will run much quicker than the other models."
   ]
  },
  {
   "cell_type": "code",
   "execution_count": 23,
   "metadata": {
    "ExecuteTime": {
     "end_time": "2021-06-13T01:16:43.955381Z",
     "start_time": "2021-06-13T01:16:43.723120Z"
    }
   },
   "outputs": [
    {
     "data": {
      "text/html": [
       "<div>\n",
       "<style scoped>\n",
       "    .dataframe tbody tr th:only-of-type {\n",
       "        vertical-align: middle;\n",
       "    }\n",
       "\n",
       "    .dataframe tbody tr th {\n",
       "        vertical-align: top;\n",
       "    }\n",
       "\n",
       "    .dataframe thead th {\n",
       "        text-align: right;\n",
       "    }\n",
       "</style>\n",
       "<table border=\"1\" class=\"dataframe\">\n",
       "  <thead>\n",
       "    <tr style=\"text-align: right;\">\n",
       "      <th></th>\n",
       "      <th>alternative dance</th>\n",
       "      <th>alternative r&amp;b</th>\n",
       "      <th>alternative rock</th>\n",
       "      <th>art pop</th>\n",
       "      <th>chillwave</th>\n",
       "      <th>classic rock</th>\n",
       "      <th>dance pop</th>\n",
       "      <th>edm</th>\n",
       "      <th>electronica</th>\n",
       "      <th>electropop</th>\n",
       "      <th>escape room</th>\n",
       "      <th>folk rock</th>\n",
       "      <th>freak folk</th>\n",
       "      <th>funk</th>\n",
       "      <th>hip hop</th>\n",
       "      <th>indie folk</th>\n",
       "      <th>indie pop</th>\n",
       "      <th>indie rock</th>\n",
       "      <th>indie soul</th>\n",
       "      <th>indietronica</th>\n",
       "      <th>mellow gold</th>\n",
       "      <th>modern rock</th>\n",
       "      <th>new rave</th>\n",
       "      <th>permanent wave</th>\n",
       "      <th>pop</th>\n",
       "      <th>pop rock</th>\n",
       "      <th>post-teen pop</th>\n",
       "      <th>rock</th>\n",
       "      <th>soft rock</th>\n",
       "      <th>soul</th>\n",
       "      <th>target</th>\n",
       "    </tr>\n",
       "  </thead>\n",
       "  <tbody>\n",
       "    <tr>\n",
       "      <th>69569</th>\n",
       "      <td>0</td>\n",
       "      <td>0</td>\n",
       "      <td>0</td>\n",
       "      <td>0</td>\n",
       "      <td>0</td>\n",
       "      <td>0</td>\n",
       "      <td>0</td>\n",
       "      <td>0</td>\n",
       "      <td>0</td>\n",
       "      <td>0</td>\n",
       "      <td>0</td>\n",
       "      <td>0</td>\n",
       "      <td>0</td>\n",
       "      <td>0</td>\n",
       "      <td>0</td>\n",
       "      <td>0</td>\n",
       "      <td>0</td>\n",
       "      <td>0</td>\n",
       "      <td>0</td>\n",
       "      <td>0</td>\n",
       "      <td>0</td>\n",
       "      <td>0</td>\n",
       "      <td>0</td>\n",
       "      <td>0</td>\n",
       "      <td>0</td>\n",
       "      <td>0</td>\n",
       "      <td>0</td>\n",
       "      <td>0</td>\n",
       "      <td>0</td>\n",
       "      <td>0</td>\n",
       "      <td>10</td>\n",
       "    </tr>\n",
       "    <tr>\n",
       "      <th>69570</th>\n",
       "      <td>0</td>\n",
       "      <td>0</td>\n",
       "      <td>0</td>\n",
       "      <td>0</td>\n",
       "      <td>0</td>\n",
       "      <td>0</td>\n",
       "      <td>0</td>\n",
       "      <td>0</td>\n",
       "      <td>0</td>\n",
       "      <td>0</td>\n",
       "      <td>0</td>\n",
       "      <td>0</td>\n",
       "      <td>0</td>\n",
       "      <td>0</td>\n",
       "      <td>0</td>\n",
       "      <td>0</td>\n",
       "      <td>0</td>\n",
       "      <td>0</td>\n",
       "      <td>1</td>\n",
       "      <td>0</td>\n",
       "      <td>0</td>\n",
       "      <td>0</td>\n",
       "      <td>0</td>\n",
       "      <td>0</td>\n",
       "      <td>0</td>\n",
       "      <td>0</td>\n",
       "      <td>0</td>\n",
       "      <td>0</td>\n",
       "      <td>0</td>\n",
       "      <td>0</td>\n",
       "      <td>10</td>\n",
       "    </tr>\n",
       "    <tr>\n",
       "      <th>69571</th>\n",
       "      <td>0</td>\n",
       "      <td>0</td>\n",
       "      <td>0</td>\n",
       "      <td>0</td>\n",
       "      <td>0</td>\n",
       "      <td>0</td>\n",
       "      <td>0</td>\n",
       "      <td>0</td>\n",
       "      <td>0</td>\n",
       "      <td>0</td>\n",
       "      <td>0</td>\n",
       "      <td>0</td>\n",
       "      <td>0</td>\n",
       "      <td>0</td>\n",
       "      <td>0</td>\n",
       "      <td>0</td>\n",
       "      <td>0</td>\n",
       "      <td>0</td>\n",
       "      <td>0</td>\n",
       "      <td>0</td>\n",
       "      <td>0</td>\n",
       "      <td>0</td>\n",
       "      <td>0</td>\n",
       "      <td>0</td>\n",
       "      <td>0</td>\n",
       "      <td>0</td>\n",
       "      <td>0</td>\n",
       "      <td>0</td>\n",
       "      <td>0</td>\n",
       "      <td>0</td>\n",
       "      <td>10</td>\n",
       "    </tr>\n",
       "    <tr>\n",
       "      <th>69572</th>\n",
       "      <td>0</td>\n",
       "      <td>0</td>\n",
       "      <td>0</td>\n",
       "      <td>0</td>\n",
       "      <td>0</td>\n",
       "      <td>0</td>\n",
       "      <td>0</td>\n",
       "      <td>0</td>\n",
       "      <td>0</td>\n",
       "      <td>0</td>\n",
       "      <td>0</td>\n",
       "      <td>0</td>\n",
       "      <td>0</td>\n",
       "      <td>0</td>\n",
       "      <td>0</td>\n",
       "      <td>0</td>\n",
       "      <td>0</td>\n",
       "      <td>0</td>\n",
       "      <td>0</td>\n",
       "      <td>0</td>\n",
       "      <td>0</td>\n",
       "      <td>0</td>\n",
       "      <td>0</td>\n",
       "      <td>0</td>\n",
       "      <td>0</td>\n",
       "      <td>0</td>\n",
       "      <td>0</td>\n",
       "      <td>0</td>\n",
       "      <td>0</td>\n",
       "      <td>0</td>\n",
       "      <td>10</td>\n",
       "    </tr>\n",
       "    <tr>\n",
       "      <th>69573</th>\n",
       "      <td>0</td>\n",
       "      <td>0</td>\n",
       "      <td>0</td>\n",
       "      <td>0</td>\n",
       "      <td>0</td>\n",
       "      <td>0</td>\n",
       "      <td>0</td>\n",
       "      <td>0</td>\n",
       "      <td>0</td>\n",
       "      <td>0</td>\n",
       "      <td>0</td>\n",
       "      <td>0</td>\n",
       "      <td>0</td>\n",
       "      <td>0</td>\n",
       "      <td>0</td>\n",
       "      <td>0</td>\n",
       "      <td>0</td>\n",
       "      <td>0</td>\n",
       "      <td>0</td>\n",
       "      <td>0</td>\n",
       "      <td>0</td>\n",
       "      <td>0</td>\n",
       "      <td>0</td>\n",
       "      <td>0</td>\n",
       "      <td>0</td>\n",
       "      <td>0</td>\n",
       "      <td>0</td>\n",
       "      <td>0</td>\n",
       "      <td>0</td>\n",
       "      <td>0</td>\n",
       "      <td>10</td>\n",
       "    </tr>\n",
       "  </tbody>\n",
       "</table>\n",
       "</div>"
      ],
      "text/plain": [
       "       alternative dance  alternative r&b  alternative rock  art pop  \\\n",
       "69569                  0                0                 0        0   \n",
       "69570                  0                0                 0        0   \n",
       "69571                  0                0                 0        0   \n",
       "69572                  0                0                 0        0   \n",
       "69573                  0                0                 0        0   \n",
       "\n",
       "       chillwave  classic rock  dance pop  edm  electronica  electropop  \\\n",
       "69569          0             0          0    0            0           0   \n",
       "69570          0             0          0    0            0           0   \n",
       "69571          0             0          0    0            0           0   \n",
       "69572          0             0          0    0            0           0   \n",
       "69573          0             0          0    0            0           0   \n",
       "\n",
       "       escape room  folk rock  freak folk  funk  hip hop  indie folk  \\\n",
       "69569            0          0           0     0        0           0   \n",
       "69570            0          0           0     0        0           0   \n",
       "69571            0          0           0     0        0           0   \n",
       "69572            0          0           0     0        0           0   \n",
       "69573            0          0           0     0        0           0   \n",
       "\n",
       "       indie pop  indie rock  indie soul  indietronica  mellow gold  \\\n",
       "69569          0           0           0             0            0   \n",
       "69570          0           0           1             0            0   \n",
       "69571          0           0           0             0            0   \n",
       "69572          0           0           0             0            0   \n",
       "69573          0           0           0             0            0   \n",
       "\n",
       "       modern rock  new rave  permanent wave  pop  pop rock  post-teen pop  \\\n",
       "69569            0         0               0    0         0              0   \n",
       "69570            0         0               0    0         0              0   \n",
       "69571            0         0               0    0         0              0   \n",
       "69572            0         0               0    0         0              0   \n",
       "69573            0         0               0    0         0              0   \n",
       "\n",
       "       rock  soft rock  soul  target  \n",
       "69569     0          0     0      10  \n",
       "69570     0          0     0      10  \n",
       "69571     0          0     0      10  \n",
       "69572     0          0     0      10  \n",
       "69573     0          0     0      10  "
      ]
     },
     "execution_count": 23,
     "metadata": {},
     "output_type": "execute_result"
    }
   ],
   "source": [
    "genre_df = pd.read_csv('../data/genre_df.csv')\n",
    "genre_df.head()"
   ]
  },
  {
   "cell_type": "code",
   "execution_count": 24,
   "metadata": {
    "ExecuteTime": {
     "end_time": "2021-06-13T01:16:54.033971Z",
     "start_time": "2021-06-13T01:16:54.006147Z"
    }
   },
   "outputs": [],
   "source": [
    "X = genre_df.drop(columns=['target'])\n",
    "y = genre_df['target']"
   ]
  },
  {
   "cell_type": "code",
   "execution_count": 25,
   "metadata": {
    "ExecuteTime": {
     "end_time": "2021-06-13T01:16:55.687899Z",
     "start_time": "2021-06-13T01:16:55.631209Z"
    }
   },
   "outputs": [],
   "source": [
    "X_train, X_test, y_train, y_test = train_test_split(X, y, random_state=42)"
   ]
  },
  {
   "cell_type": "code",
   "execution_count": 29,
   "metadata": {
    "ExecuteTime": {
     "end_time": "2021-06-13T01:19:36.529778Z",
     "start_time": "2021-06-13T01:19:36.523572Z"
    }
   },
   "outputs": [],
   "source": [
    "xgb_cla = XGBClassifier(\n",
    "    learning_rate = 0.1,\n",
    "    n_estimators = 100,\n",
    "    max_depth = 3,\n",
    "    subsample = 0.9,\n",
    "    colsample_bytree = 0.9,\n",
    "    verbosity = 0\n",
    ")"
   ]
  },
  {
   "cell_type": "code",
   "execution_count": 30,
   "metadata": {
    "ExecuteTime": {
     "end_time": "2021-06-13T01:21:19.440646Z",
     "start_time": "2021-06-13T01:19:49.216887Z"
    }
   },
   "outputs": [
    {
     "name": "stderr",
     "output_type": "stream",
     "text": [
      "/Users/samlindy/opt/anaconda3/lib/python3.8/site-packages/xgboost/sklearn.py:1146: UserWarning: The use of label encoder in XGBClassifier is deprecated and will be removed in a future release. To remove this warning, do the following: 1) Pass option use_label_encoder=False when constructing XGBClassifier object; and 2) Encode your labels (y) as integers starting with 0, i.e. 0, 1, 2, ..., [num_class - 1].\n",
      "  warnings.warn(label_encoder_deprecation_msg, UserWarning)\n",
      "/Users/samlindy/opt/anaconda3/lib/python3.8/site-packages/xgboost/data.py:112: UserWarning: Use subset (sliced data) of np.ndarray is not recommended because it will generate extra copies and increase memory consumption\n",
      "  warnings.warn(\n",
      "/Users/samlindy/opt/anaconda3/lib/python3.8/site-packages/xgboost/sklearn.py:1146: UserWarning: The use of label encoder in XGBClassifier is deprecated and will be removed in a future release. To remove this warning, do the following: 1) Pass option use_label_encoder=False when constructing XGBClassifier object; and 2) Encode your labels (y) as integers starting with 0, i.e. 0, 1, 2, ..., [num_class - 1].\n",
      "  warnings.warn(label_encoder_deprecation_msg, UserWarning)\n",
      "/Users/samlindy/opt/anaconda3/lib/python3.8/site-packages/xgboost/data.py:112: UserWarning: Use subset (sliced data) of np.ndarray is not recommended because it will generate extra copies and increase memory consumption\n",
      "  warnings.warn(\n",
      "/Users/samlindy/opt/anaconda3/lib/python3.8/site-packages/xgboost/sklearn.py:1146: UserWarning: The use of label encoder in XGBClassifier is deprecated and will be removed in a future release. To remove this warning, do the following: 1) Pass option use_label_encoder=False when constructing XGBClassifier object; and 2) Encode your labels (y) as integers starting with 0, i.e. 0, 1, 2, ..., [num_class - 1].\n",
      "  warnings.warn(label_encoder_deprecation_msg, UserWarning)\n",
      "/Users/samlindy/opt/anaconda3/lib/python3.8/site-packages/xgboost/data.py:112: UserWarning: Use subset (sliced data) of np.ndarray is not recommended because it will generate extra copies and increase memory consumption\n",
      "  warnings.warn(\n"
     ]
    },
    {
     "data": {
      "text/plain": [
       "0.3456688436638878"
      ]
     },
     "execution_count": 30,
     "metadata": {},
     "output_type": "execute_result"
    }
   ],
   "source": [
    "cross_val_score(xgb_cla, X_train, y_train, cv=3, scoring='accuracy').mean()"
   ]
  },
  {
   "cell_type": "code",
   "execution_count": 31,
   "metadata": {
    "ExecuteTime": {
     "end_time": "2021-06-13T01:22:09.625153Z",
     "start_time": "2021-06-13T01:21:24.899857Z"
    }
   },
   "outputs": [
    {
     "name": "stderr",
     "output_type": "stream",
     "text": [
      "/Users/samlindy/opt/anaconda3/lib/python3.8/site-packages/xgboost/sklearn.py:1146: UserWarning: The use of label encoder in XGBClassifier is deprecated and will be removed in a future release. To remove this warning, do the following: 1) Pass option use_label_encoder=False when constructing XGBClassifier object; and 2) Encode your labels (y) as integers starting with 0, i.e. 0, 1, 2, ..., [num_class - 1].\n",
      "  warnings.warn(label_encoder_deprecation_msg, UserWarning)\n"
     ]
    },
    {
     "data": {
      "text/plain": [
       "XGBClassifier(base_score=0.5, booster='gbtree', colsample_bylevel=1,\n",
       "              colsample_bynode=1, colsample_bytree=0.9, gamma=0, gpu_id=-1,\n",
       "              importance_type='gain', interaction_constraints='',\n",
       "              learning_rate=0.1, max_delta_step=0, max_depth=3,\n",
       "              min_child_weight=1, missing=nan, monotone_constraints='()',\n",
       "              n_estimators=100, n_jobs=4, num_parallel_tree=1,\n",
       "              objective='multi:softprob', random_state=0, reg_alpha=0,\n",
       "              reg_lambda=1, scale_pos_weight=None, subsample=0.9,\n",
       "              tree_method='exact', validate_parameters=1, verbosity=0)"
      ]
     },
     "execution_count": 31,
     "metadata": {},
     "output_type": "execute_result"
    }
   ],
   "source": [
    "xgb_cla.fit(X_train, y_train)"
   ]
  },
  {
   "cell_type": "code",
   "execution_count": 32,
   "metadata": {
    "ExecuteTime": {
     "end_time": "2021-06-13T01:22:55.739811Z",
     "start_time": "2021-06-13T01:22:55.057196Z"
    }
   },
   "outputs": [
    {
     "name": "stderr",
     "output_type": "stream",
     "text": [
      "/Users/samlindy/opt/anaconda3/lib/python3.8/site-packages/xgboost/data.py:112: UserWarning: Use subset (sliced data) of np.ndarray is not recommended because it will generate extra copies and increase memory consumption\n",
      "  warnings.warn(\n"
     ]
    },
    {
     "data": {
      "text/plain": [
       "0.34946339593714065"
      ]
     },
     "execution_count": 32,
     "metadata": {},
     "output_type": "execute_result"
    }
   ],
   "source": [
    "xgb_cla.score(X_train, y_train)"
   ]
  },
  {
   "cell_type": "code",
   "execution_count": 33,
   "metadata": {
    "ExecuteTime": {
     "end_time": "2021-06-13T01:22:59.625449Z",
     "start_time": "2021-06-13T01:22:59.346813Z"
    }
   },
   "outputs": [
    {
     "name": "stderr",
     "output_type": "stream",
     "text": [
      "/Users/samlindy/opt/anaconda3/lib/python3.8/site-packages/xgboost/data.py:112: UserWarning: Use subset (sliced data) of np.ndarray is not recommended because it will generate extra copies and increase memory consumption\n",
      "  warnings.warn(\n"
     ]
    },
    {
     "data": {
      "text/plain": [
       "0.3470162124870645"
      ]
     },
     "execution_count": 33,
     "metadata": {},
     "output_type": "execute_result"
    }
   ],
   "source": [
    "xgb_cla.score(X_test, y_test)"
   ]
  },
  {
   "cell_type": "code",
   "execution_count": 34,
   "metadata": {
    "ExecuteTime": {
     "end_time": "2021-06-13T01:23:06.072162Z",
     "start_time": "2021-06-13T01:23:06.065955Z"
    }
   },
   "outputs": [],
   "source": [
    "param_grid =  {\n",
    "    'max_depth': [6],\n",
    "    'min_child_weight': [1],\n",
    "    'gamma':[.001],\n",
    "    'subsample': [ 0.65],\n",
    "    'colsample_bytree': [0.8],\n",
    "    'reg_lambda': [1]\n",
    "}"
   ]
  },
  {
   "cell_type": "code",
   "execution_count": null,
   "metadata": {
    "ExecuteTime": {
     "end_time": "2021-06-13T01:34:12.262846Z",
     "start_time": "2021-06-13T01:23:09.966918Z"
    }
   },
   "outputs": [],
   "source": [
    "gs = GridSearchCV(estimator=XGBClassifier(use_label_encoder=False), \n",
    "                   param_grid=param_grid, cv=KFold(n_splits=10, random_state=None), verbose=50, n_jobs=-1)\n",
    "gs.fit(X_train, y_train)"
   ]
  },
  {
   "cell_type": "code",
   "execution_count": 37,
   "metadata": {
    "ExecuteTime": {
     "end_time": "2021-06-13T01:40:05.629955Z",
     "start_time": "2021-06-13T01:40:05.618431Z"
    }
   },
   "outputs": [
    {
     "data": {
      "text/plain": [
       "XGBClassifier(base_score=0.5, booster='gbtree', colsample_bylevel=1,\n",
       "              colsample_bynode=1, colsample_bytree=0.8, gamma=0.001, gpu_id=-1,\n",
       "              importance_type='gain', interaction_constraints='',\n",
       "              learning_rate=0.300000012, max_delta_step=0, max_depth=6,\n",
       "              min_child_weight=1, missing=nan, monotone_constraints='()',\n",
       "              n_estimators=100, n_jobs=4, num_parallel_tree=1,\n",
       "              objective='multi:softprob', random_state=0, reg_alpha=0,\n",
       "              reg_lambda=1, scale_pos_weight=None, subsample=0.65,\n",
       "              tree_method='exact', use_label_encoder=False,\n",
       "              validate_parameters=1, verbosity=None)"
      ]
     },
     "execution_count": 37,
     "metadata": {},
     "output_type": "execute_result"
    }
   ],
   "source": [
    "gs.best_estimator_"
   ]
  },
  {
   "cell_type": "code",
   "execution_count": 38,
   "metadata": {
    "ExecuteTime": {
     "end_time": "2021-06-13T01:41:28.545293Z",
     "start_time": "2021-06-13T01:41:28.136969Z"
    }
   },
   "outputs": [
    {
     "name": "stderr",
     "output_type": "stream",
     "text": [
      "/Users/samlindy/opt/anaconda3/lib/python3.8/site-packages/xgboost/data.py:112: UserWarning: Use subset (sliced data) of np.ndarray is not recommended because it will generate extra copies and increase memory consumption\n",
      "  warnings.warn(\n"
     ]
    },
    {
     "data": {
      "text/plain": [
       "0.37202483615039666"
      ]
     },
     "execution_count": 38,
     "metadata": {},
     "output_type": "execute_result"
    }
   ],
   "source": [
    "gs.score(X_test, y_test)"
   ]
  },
  {
   "cell_type": "markdown",
   "metadata": {},
   "source": [
    "Accuracy score is 37%"
   ]
  },
  {
   "cell_type": "code",
   "execution_count": null,
   "metadata": {},
   "outputs": [],
   "source": []
  }
 ],
 "metadata": {
  "kernelspec": {
   "display_name": "Python 3",
   "language": "python",
   "name": "python3"
  },
  "language_info": {
   "codemirror_mode": {
    "name": "ipython",
    "version": 3
   },
   "file_extension": ".py",
   "mimetype": "text/x-python",
   "name": "python",
   "nbconvert_exporter": "python",
   "pygments_lexer": "ipython3",
   "version": "3.8.5"
  },
  "toc": {
   "base_numbering": 1,
   "nav_menu": {},
   "number_sections": true,
   "sideBar": true,
   "skip_h1_title": false,
   "title_cell": "Table of Contents",
   "title_sidebar": "Contents",
   "toc_cell": false,
   "toc_position": {},
   "toc_section_display": true,
   "toc_window_display": false
  }
 },
 "nbformat": 4,
 "nbformat_minor": 4
}
